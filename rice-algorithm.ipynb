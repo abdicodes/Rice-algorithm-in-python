{
 "cells": [
  {
   "cell_type": "markdown",
   "metadata": {},
   "source": [
    "## Rice coding"
   ]
  },
  {
   "cell_type": "markdown",
   "metadata": {},
   "source": [
    "### Introduction"
   ]
  },
  {
   "cell_type": "markdown",
   "metadata": {},
   "source": [
    "As we have seen, Rice coding can be applied to reduce the bits required to represent a number. Rice coding is a specialised form of [Golomb coding](https://en.wikipedia.org/wiki/Golomb_coding).\n",
    "\n",
    "Let's analyse the Rice's coding algorithm:"
   ]
  },
  {
   "cell_type": "markdown",
   "metadata": {},
   "source": [
    "### Rice's algorithm\n",
    "\n",
    "**Encoding**\n",
    "1. Fix an integer value K.\n",
    "2. Compute the modulus, M by using the equation $ M = 2^K $\n",
    "3. For S, the number to be encoded, find\n",
    "    1. quotient = $ q = int(S/M) $\n",
    "    2. remainder = $ r = S  modulo  M $\n",
    "4. Generate Codeword\n",
    "    1. The Quotient_Code is q in unary format.\n",
    "    2. The Remainder_Code is r in binary using K bits.\n",
    "    3. The Codeword will have the format <Quotient_Code\\> <Remainder_Code\\>\n",
    "\n",
    "**Decoding**\n",
    "1. Determine q by counting the number of 1s before the first 0.\n",
    "2. Determine r reading the next K bits as a binary value.\n",
    "3. Write out S, the encoded number, as q × M + r."
   ]
  },
  {
   "cell_type": "markdown",
   "metadata": {},
   "source": [
    "### Examples"
   ]
  },
  {
   "cell_type": "markdown",
   "metadata": {},
   "source": [
    "**Example 1. Encoding**\n",
    "\n",
    "Let's encode the 8-bit value 19 (00010011).\n",
    "\n",
    "1. Fix an integer value K.\n",
    "\n",
    "Let's say K = 4. Why 4? For any particular reason. It could also be 2, 3, 5, etc. You should analyse the data to be encoded to determine the optimal K. Thus, in many applications, a two-pass approach is implemented. First, the block of data is analysed, second the optimal K is determined.\n",
    "\n",
    "2. Compute the modulus, M using by the equation $ M = 2^K $\n",
    "\n",
    "This is easy. $ M = 2^4 = 16 $ \n",
    "\n",
    "3. For S, the number to be encoded, find\n",
    "    1. quotient = $ q = int(S/M) $\n",
    "    2. remainder = $ r = S  modulo  M $\n",
    "\n",
    "This is also easy. $ q = int(19/16) = 1 $ and $ r = 19  modulo  16 = 3 $\n",
    "\n",
    "4. (1) The Quotient_Code is q in unary format.\n",
    "\n",
    "In unary coding a value N may be represented by N 1s followed by a 0.\n",
    "\n",
    "So, for example, 2 in unary may be represented by 110, 3 by 1110, etc. (Note: 0 in unary is 0).\n",
    "\n",
    "So, $ q = int(19/16) = 1 = 10 $ (in unary)\n",
    "\n",
    "4. (2) The Remainder_Code is r in binary using K bits.\n",
    "\n",
    "r = 3 in binary using 4 bits is 0011\n",
    "\n",
    "4. (3) The Codeword will have the format <Quotient_Code\\> <Remainder_Code\\>\n",
    "\n",
    "Thus, 19 (00010011) can be written as 100011, saving 2 bits.\n",
    "\n",
    "**Note**: as we have seen in the previous video, the remainder can be 'simplified' by removing the leading zeros. So r = 0011 = 11, and 20 can be encoded as 1010. This approach is correct if we encode a single number but, as we will see, it is not an useful approach if we want to enconde a block of data (several numbers)."
   ]
  },
  {
   "cell_type": "markdown",
   "metadata": {},
   "source": [
    "**Example 2. Decoding**\n",
    "\n",
    "Now, let's decode the encoded value 100011 when K = 4 (M = 16).\n",
    "\n",
    "1. Determine q by counting the number of 1s before the first 0.\n",
    "\n",
    "The number of 1s before the first 0 is '1'. So, $ q = 1 $ (in decimal)\n",
    "\n",
    "2. Determine r reading the next K bits as a binary value.\n",
    "\n",
    "The next 4 bits are 0011, so $ r = 0011 = 3 $ (in decimal)\n",
    "\n",
    "3. Write out S, the encoded number, as q × M + r.\n",
    "\n",
    "S = 1 × 16 + 3 = 19"
   ]
  },
  {
   "cell_type": "markdown",
   "metadata": {},
   "source": [
    "**Example 3. Encoding**\n",
    "\n",
    "Let's encode the 8-bit value 33 (00100001), with $ K = 4 $.\n",
    "\n",
    "$ q = 2 = 110 $ (in unary)  and $ r = 1 = 0001 $ (in decimal, using K bits)  \n",
    "\n",
    "So, 33 (00100001) can be written as 1100001, saving 1 bit."
   ]
  },
  {
   "cell_type": "markdown",
   "metadata": {},
   "source": [
    "### Exercise 1. Rice coding 'by hand'"
   ]
  },
  {
   "cell_type": "markdown",
   "metadata": {},
   "source": [
    "**Exercise 1.1.**\n",
    "\n",
    "Encode the 8-bit value 23 (00010111), with $ K = 4 $."
   ]
  },
  {
   "cell_type": "markdown",
   "metadata": {},
   "source": [
    "**Exercise 1.2.**\n",
    "\n",
    "Encode the 8-bit value 51 (00110011), with $ K = 5 $."
   ]
  },
  {
   "cell_type": "markdown",
   "metadata": {},
   "source": [
    "**Exercise 1.3.**\n",
    "\n",
    "Decode the encoded value 1100011 when $ K = 4 $."
   ]
  },
  {
   "cell_type": "markdown",
   "metadata": {},
   "source": [
    "**Exercise 1.4.**\n",
    "\n",
    "The list of 8-bit values 17, 25, 37 can be written as 00010001, 00011001, 00100101 or, without the commas, 000100010001100100100101.\n",
    "Encode the 8-bit values 17, 25 and 37 with 𝐾=4 and generate a 'encoded' data block. Which data block is shorter, the encoded or the non-encoded one?"
   ]
  },
  {
   "cell_type": "markdown",
   "metadata": {},
   "source": [
    "**Exercise 1.5.**\n",
    "\n",
    "The following data block 110001110000111100101 contains (in this order) the encoded numbers *a*, *b*, and *c*, with 𝐾=4. What are the values of these numbers in decimal?"
   ]
  },
  {
   "cell_type": "markdown",
   "metadata": {},
   "source": [
    "### Exercise 2. Rice coding implementation"
   ]
  },
  {
   "cell_type": "markdown",
   "metadata": {},
   "source": [
    "**Exercise 2.1.**\n",
    "\n",
    "Implement the Rice's algorithm in python and solve Exercise 1 using this application.\n",
    "\n",
    "You can use as a reference the example of Rice coding/encoding detailed in http://michael.dipperstein.com/rice/index.html."
   ]
  },
  {
   "cell_type": "code",
   "execution_count": 1,
   "metadata": {},
   "outputs": [],
   "source": [
    "import wave\n",
    "import numpy"
   ]
  },
  {
   "cell_type": "code",
   "execution_count": 2,
   "metadata": {},
   "outputs": [],
   "source": [
    "# Read file to get buffer                                                                                               \n",
    "ifile = wave.open(\"Sound1.wav\")\n",
    "samples = ifile.getnframes()\n"
   ]
  },
  {
   "cell_type": "code",
   "execution_count": 3,
   "metadata": {},
   "outputs": [
    {
     "data": {
      "text/plain": [
       "501022"
      ]
     },
     "execution_count": 3,
     "metadata": {},
     "output_type": "execute_result"
    }
   ],
   "source": [
    "samples"
   ]
  },
  {
   "cell_type": "code",
   "execution_count": 4,
   "metadata": {},
   "outputs": [],
   "source": [
    "audio = ifile.readframes(samples)"
   ]
  },
  {
   "cell_type": "code",
   "execution_count": 11,
   "metadata": {},
   "outputs": [
    {
     "data": {
      "text/plain": [
       "1002044"
      ]
     },
     "execution_count": 11,
     "metadata": {},
     "output_type": "execute_result"
    }
   ],
   "source": [
    "len(audio)"
   ]
  },
  {
   "cell_type": "code",
   "execution_count": 12,
   "metadata": {},
   "outputs": [
    {
     "data": {
      "text/plain": [
       "bytes"
      ]
     },
     "execution_count": 12,
     "metadata": {},
     "output_type": "execute_result"
    }
   ],
   "source": [
    "type(audio)"
   ]
  },
  {
   "cell_type": "code",
   "execution_count": 13,
   "metadata": {},
   "outputs": [],
   "source": [
    "from  scipy.io import wavfile \n",
    "\n",
    "sampling_rate, data = wavfile.read('Sound1.wav')\n",
    "# wavfile.write('sound1.wav', sampling_rate, data)"
   ]
  },
  {
   "cell_type": "code",
   "execution_count": 14,
   "metadata": {},
   "outputs": [
    {
     "data": {
      "text/plain": [
       "numpy.ndarray"
      ]
     },
     "execution_count": 14,
     "metadata": {},
     "output_type": "execute_result"
    }
   ],
   "source": [
    "type(data)"
   ]
  },
  {
   "cell_type": "code",
   "execution_count": 22,
   "metadata": {},
   "outputs": [
    {
     "data": {
      "text/plain": [
       "array([-3, -4, -5, -5, -4, -3, -5, -4, -4, -2, -2, -4, -2, -3, -3, -4, -4,\n",
       "       -2, -2, -4, -4, -4, -3, -4, -5, -3, -3, -4, -5, -5, -2, -4, -3, -2,\n",
       "       -4, -3, -3, -2, -2, -2, -3, -2, -3, -3, -2, -3, -4, -5, -4, -4, -3,\n",
       "        0, -2, -2, -2, -2,  0, -1, -1, -1, -1, -1, -2, -3, -3, -3, -3, -2,\n",
       "       -4, -2, -3, -3, -2, -2, -2, -3, -3, -4, -5, -3, -3, -3, -3,  0,  0,\n",
       "        1,  0, -1, -1,  0, -2, -2, -2, -2, -1, -2, -2, -3, -4, -4],\n",
       "      dtype=int16)"
      ]
     },
     "execution_count": 22,
     "metadata": {},
     "output_type": "execute_result"
    }
   ],
   "source": [
    "data[1000:1100]"
   ]
  },
  {
   "cell_type": "code",
   "execution_count": 23,
   "metadata": {},
   "outputs": [],
   "source": [
    "import numpy as np\n",
    "import scipy.signal as signal\n",
    "from pydub import AudioSegment\n",
    "from pydub.utils import make_chunks\n",
    "\n",
    "audio_file = 'Sound1.wav'\n",
    "audio = AudioSegment.from_file(audio_file)\n",
    "audio_array = np.array(audio.get_array_of_samples())"
   ]
  },
  {
   "cell_type": "code",
   "execution_count": 24,
   "metadata": {},
   "outputs": [
    {
     "data": {
      "text/plain": [
       "-7"
      ]
     },
     "execution_count": 24,
     "metadata": {},
     "output_type": "execute_result"
    }
   ],
   "source": [
    "audio_array[0]"
   ]
  },
  {
   "cell_type": "code",
   "execution_count": 27,
   "metadata": {},
   "outputs": [],
   "source": [
    "s = 18"
   ]
  },
  {
   "cell_type": "code",
   "execution_count": 25,
   "metadata": {},
   "outputs": [
    {
     "data": {
      "text/plain": [
       "16"
      ]
     },
     "execution_count": 25,
     "metadata": {},
     "output_type": "execute_result"
    }
   ],
   "source": [
    "k = 4\n",
    "m = 2 ** k \n",
    "m"
   ]
  },
  {
   "cell_type": "code",
   "execution_count": 28,
   "metadata": {},
   "outputs": [],
   "source": [
    "q = int(s/m)"
   ]
  },
  {
   "cell_type": "code",
   "execution_count": 29,
   "metadata": {},
   "outputs": [
    {
     "data": {
      "text/plain": [
       "1"
      ]
     },
     "execution_count": 29,
     "metadata": {},
     "output_type": "execute_result"
    }
   ],
   "source": [
    "q"
   ]
  },
  {
   "cell_type": "code",
   "execution_count": 30,
   "metadata": {},
   "outputs": [
    {
     "data": {
      "text/plain": [
       "1"
      ]
     },
     "execution_count": 30,
     "metadata": {},
     "output_type": "execute_result"
    }
   ],
   "source": [
    "r = s //m \n",
    "r"
   ]
  },
  {
   "cell_type": "code",
   "execution_count": 32,
   "metadata": {},
   "outputs": [
    {
     "data": {
      "text/plain": [
       "'0b1'"
      ]
     },
     "execution_count": 32,
     "metadata": {},
     "output_type": "execute_result"
    }
   ],
   "source": [
    "bin(q)[0:]  "
   ]
  },
  {
   "cell_type": "code",
   "execution_count": 37,
   "metadata": {},
   "outputs": [
    {
     "name": "stdout",
     "output_type": "stream",
     "text": [
      "1111110\n"
     ]
    }
   ],
   "source": [
    "def to_unary(n)\n",
    "int_string = ''\n",
    "for i in range (6):\n",
    "    int_string +=\"1\"\n",
    "print(int(int_string+'0'))\n",
    "    "
   ]
  },
  {
   "cell_type": "code",
   "execution_count": null,
   "metadata": {},
   "outputs": [],
   "source": []
  }
 ],
 "metadata": {
  "kernelspec": {
   "display_name": "Python 3",
   "language": "python",
   "name": "python3"
  },
  "language_info": {
   "codemirror_mode": {
    "name": "ipython",
    "version": 3
   },
   "file_extension": ".py",
   "mimetype": "text/x-python",
   "name": "python",
   "nbconvert_exporter": "python",
   "pygments_lexer": "ipython3",
   "version": "3.8.8"
  }
 },
 "nbformat": 4,
 "nbformat_minor": 4
}
