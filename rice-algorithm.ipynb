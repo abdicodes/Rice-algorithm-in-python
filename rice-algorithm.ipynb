{
 "cells": [
  {
   "cell_type": "markdown",
   "metadata": {},
   "source": [
    "## Rice coding"
   ]
  },
  {
   "cell_type": "markdown",
   "metadata": {},
   "source": [
    "### Introduction"
   ]
  },
  {
   "cell_type": "markdown",
   "metadata": {},
   "source": [
    "As we have seen, Rice coding can be applied to reduce the bits required to represent a number. Rice coding is a specialised form of [Golomb coding](https://en.wikipedia.org/wiki/Golomb_coding).\n",
    "\n",
    "Let's analyse the Rice's coding algorithm:"
   ]
  },
  {
   "cell_type": "markdown",
   "metadata": {},
   "source": [
    "### Rice's algorithm\n",
    "\n",
    "**Encoding**\n",
    "1. Fix an integer value K.\n",
    "2. Compute the modulus, M by using the equation $ M = 2^K $\n",
    "3. For S, the number to be encoded, find\n",
    "    1. quotient = $ q = int(S/M) $\n",
    "    2. remainder = $ r = S  modulo  M $\n",
    "4. Generate Codeword\n",
    "    1. The Quotient_Code is q in unary format.\n",
    "    2. The Remainder_Code is r in binary using K bits.\n",
    "    3. The Codeword will have the format <Quotient_Code\\> <Remainder_Code\\>\n",
    "\n",
    "**Decoding**\n",
    "1. Determine q by counting the number of 1s before the first 0.\n",
    "2. Determine r reading the next K bits as a binary value.\n",
    "3. Write out S, the encoded number, as q × M + r."
   ]
  },
  {
   "cell_type": "markdown",
   "metadata": {},
   "source": [
    "### Examples"
   ]
  },
  {
   "cell_type": "markdown",
   "metadata": {},
   "source": [
    "**Example 1. Encoding**\n",
    "\n",
    "Let's encode the 8-bit value 19 (00010011).\n",
    "\n",
    "1. Fix an integer value K.\n",
    "\n",
    "Let's say K = 4. Why 4? For any particular reason. It could also be 2, 3, 5, etc. You should analyse the data to be encoded to determine the optimal K. Thus, in many applications, a two-pass approach is implemented. First, the block of data is analysed, second the optimal K is determined.\n",
    "\n",
    "2. Compute the modulus, M using by the equation $ M = 2^K $\n",
    "\n",
    "This is easy. $ M = 2^4 = 16 $ \n",
    "\n",
    "3. For S, the number to be encoded, find\n",
    "    1. quotient = $ q = int(S/M) $\n",
    "    2. remainder = $ r = S  modulo  M $\n",
    "\n",
    "This is also easy. $ q = int(19/16) = 1 $ and $ r = 19  modulo  16 = 3 $\n",
    "\n",
    "4. (1) The Quotient_Code is q in unary format.\n",
    "\n",
    "In unary coding a value N may be represented by N 1s followed by a 0.\n",
    "\n",
    "So, for example, 2 in unary may be represented by 110, 3 by 1110, etc. (Note: 0 in unary is 0).\n",
    "\n",
    "So, $ q = int(19/16) = 1 = 10 $ (in unary)\n",
    "\n",
    "4. (2) The Remainder_Code is r in binary using K bits.\n",
    "\n",
    "r = 3 in binary using 4 bits is 0011\n",
    "\n",
    "4. (3) The Codeword will have the format <Quotient_Code\\> <Remainder_Code\\>\n",
    "\n",
    "Thus, 19 (00010011) can be written as 100011, saving 2 bits.\n",
    "\n",
    "**Note**: as we have seen in the previous video, the remainder can be 'simplified' by removing the leading zeros. So r = 0011 = 11, and 20 can be encoded as 1010. This approach is correct if we encode a single number but, as we will see, it is not an useful approach if we want to enconde a block of data (several numbers)."
   ]
  },
  {
   "cell_type": "markdown",
   "metadata": {},
   "source": [
    "**Example 2. Decoding**\n",
    "\n",
    "Now, let's decode the encoded value 100011 when K = 4 (M = 16).\n",
    "\n",
    "1. Determine q by counting the number of 1s before the first 0.\n",
    "\n",
    "The number of 1s before the first 0 is '1'. So, $ q = 1 $ (in decimal)\n",
    "\n",
    "2. Determine r reading the next K bits as a binary value.\n",
    "\n",
    "The next 4 bits are 0011, so $ r = 0011 = 3 $ (in decimal)\n",
    "\n",
    "3. Write out S, the encoded number, as q × M + r.\n",
    "\n",
    "S = 1 × 16 + 3 = 19"
   ]
  },
  {
   "cell_type": "markdown",
   "metadata": {},
   "source": [
    "**Example 3. Encoding**\n",
    "\n",
    "Let's encode the 8-bit value 33 (00100001), with $ K = 4 $.\n",
    "\n",
    "$ q = 2 = 110 $ (in unary)  and $ r = 1 = 0001 $ (in decimal, using K bits)  \n",
    "\n",
    "So, 33 (00100001) can be written as 1100001, saving 1 bit."
   ]
  },
  {
   "cell_type": "markdown",
   "metadata": {},
   "source": [
    "### Exercise 1. Rice coding 'by hand'"
   ]
  },
  {
   "cell_type": "markdown",
   "metadata": {},
   "source": [
    "**Exercise 1.1.**\n",
    "\n",
    "Encode the 8-bit value 23 (00010111), with $ K = 4 $."
   ]
  },
  {
   "cell_type": "markdown",
   "metadata": {},
   "source": [
    "**Exercise 1.2.**\n",
    "\n",
    "Encode the 8-bit value 51 (00110011), with $ K = 5 $."
   ]
  },
  {
   "cell_type": "markdown",
   "metadata": {},
   "source": [
    "**Exercise 1.3.**\n",
    "\n",
    "Decode the encoded value 1100011 when $ K = 4 $."
   ]
  },
  {
   "cell_type": "markdown",
   "metadata": {},
   "source": [
    "**Exercise 1.4.**\n",
    "\n",
    "The list of 8-bit values 17, 25, 37 can be written as 00010001, 00011001, 00100101 or, without the commas, 000100010001100100100101.\n",
    "Encode the 8-bit values 17, 25 and 37 with 𝐾=4 and generate a 'encoded' data block. Which data block is shorter, the encoded or the non-encoded one?"
   ]
  },
  {
   "cell_type": "markdown",
   "metadata": {},
   "source": [
    "**Exercise 1.5.**\n",
    "\n",
    "The following data block 110001110000111100101 contains (in this order) the encoded numbers *a*, *b*, and *c*, with 𝐾=4. What are the values of these numbers in decimal?"
   ]
  },
  {
   "cell_type": "markdown",
   "metadata": {},
   "source": [
    "### Exercise 2. Rice coding implementation"
   ]
  },
  {
   "cell_type": "markdown",
   "metadata": {},
   "source": [
    "**Exercise 2.1.**\n",
    "\n",
    "Implement the Rice's algorithm in python and solve Exercise 1 using this application.\n",
    "\n",
    "You can use as a reference the example of Rice coding/encoding detailed in http://michael.dipperstein.com/rice/index.html."
   ]
  },
  {
   "cell_type": "code",
   "execution_count": 17,
   "metadata": {},
   "outputs": [],
   "source": [
    "import wave\n",
    "\n",
    "# read wave audio file\n",
    "with wave.open(\"Sound2.wav\", mode='rb') as wav:\n",
    "    f_bytes = bytearray(list(wav.readframes(wav.getnframes())))\n",
    "    sample_width = wav.getsampwidth()   # in bytes\n",
    "    sample_rate = wav.getframerate()  # in Hz\n",
    "    channels = wav.getnchannels() "
   ]
  },
  {
   "cell_type": "code",
   "execution_count": 6,
   "metadata": {},
   "outputs": [],
   "source": [
    "import wave\n",
    "import numpy as np"
   ]
  },
  {
   "cell_type": "code",
   "execution_count": null,
   "metadata": {},
   "outputs": [],
   "source": [
    "# Read file to get buffer                                                                                               \n",
    "ifile = wave.open(\"Sound1.wav\")\n",
    "samples = ifile.getnframes()\n",
    "ifile.getframerate()\n"
   ]
  },
  {
   "cell_type": "code",
   "execution_count": null,
   "metadata": {},
   "outputs": [],
   "source": [
    "samples"
   ]
  },
  {
   "cell_type": "code",
   "execution_count": null,
   "metadata": {},
   "outputs": [],
   "source": [
    "audio = ifile.readframes(samples)"
   ]
  },
  {
   "cell_type": "code",
   "execution_count": null,
   "metadata": {},
   "outputs": [],
   "source": [
    "len(audio)"
   ]
  },
  {
   "cell_type": "code",
   "execution_count": null,
   "metadata": {},
   "outputs": [],
   "source": [
    "type(audio)"
   ]
  },
  {
   "cell_type": "code",
   "execution_count": null,
   "metadata": {},
   "outputs": [],
   "source": [
    "audio[5000]"
   ]
  },
  {
   "cell_type": "code",
   "execution_count": null,
   "metadata": {},
   "outputs": [],
   "source": []
  },
  {
   "cell_type": "code",
   "execution_count": null,
   "metadata": {},
   "outputs": [],
   "source": [
    "from  scipy.io import wavfile \n",
    "\n",
    "sampling_rate, data = wavfile.read('Sound2.wav')\n",
    "# wavfile.write('sound1.wav', sampling_rate, data)"
   ]
  },
  {
   "cell_type": "code",
   "execution_count": null,
   "metadata": {},
   "outputs": [],
   "source": [
    "data[5000:5003]"
   ]
  },
  {
   "cell_type": "code",
   "execution_count": null,
   "metadata": {},
   "outputs": [],
   "source": [
    "type(data)"
   ]
  },
  {
   "cell_type": "code",
   "execution_count": null,
   "metadata": {},
   "outputs": [],
   "source": [
    "import numpy as np\n",
    "import scipy.signal as signal\n",
    "from pydub import AudioSegment\n",
    "from pydub.utils import make_chunks\n",
    "import math\n",
    "\n",
    "audio_file = 'Sound2.wav'\n",
    "audio = AudioSegment.from_file(audio_file)\n",
    "audio_array = np.array(audio.get_array_of_samples())"
   ]
  },
  {
   "cell_type": "code",
   "execution_count": null,
   "metadata": {},
   "outputs": [],
   "source": [
    "int(np.floor(np.log2(k)))"
   ]
  },
  {
   "cell_type": "code",
   "execution_count": 2,
   "metadata": {},
   "outputs": [],
   "source": [
    "def to_unary(num):\n",
    "    int_string = ''\n",
    "    for i in range (num):\n",
    "        int_string +=\"1\"\n",
    "    return int_string+'0'\n",
    "    "
   ]
  },
  {
   "cell_type": "code",
   "execution_count": 3,
   "metadata": {},
   "outputs": [],
   "source": [
    "def padded_binary(i, width):\n",
    "    s = bin(i)\n",
    "    return  s[2:].zfill(width)"
   ]
  },
  {
   "cell_type": "code",
   "execution_count": null,
   "metadata": {},
   "outputs": [],
   "source": [
    "x = format(1, f'#0{k+2}b')"
   ]
  },
  {
   "cell_type": "code",
   "execution_count": 29,
   "metadata": {},
   "outputs": [],
   "source": [
    "def encode(arr, k):\n",
    "    my_list = []\n",
    "#     encoded_arr = np.zeros(len(f_bytes) + 1, dtype='uint64')\n",
    "    m = 2 ** k\n",
    "    for i in range (len(arr)):\n",
    "        q = arr[i] // m\n",
    "        r = arr[i] % m\n",
    "        encoded_string = to_unary(q) + padded_binary(r, k)\n",
    "        num = int(encoded_string, 2)\n",
    "#         encoded_arr[i]= num\n",
    "        my_list.append(num)\n",
    "#     encoded_arr[-1]= k\n",
    "    my_list.append(k)\n",
    "    \n",
    "    return my_list\n",
    "\n",
    "    \n",
    "   "
   ]
  },
  {
   "cell_type": "code",
   "execution_count": 40,
   "metadata": {},
   "outputs": [],
   "source": [
    "ecnoded_arr = encode(f_bytes, 32)"
   ]
  },
  {
   "cell_type": "code",
   "execution_count": null,
   "metadata": {},
   "outputs": [],
   "source": [
    "len(f_bytes)"
   ]
  },
  {
   "cell_type": "code",
   "execution_count": null,
   "metadata": {},
   "outputs": [],
   "source": [
    "len(ecnoded_arr)"
   ]
  },
  {
   "cell_type": "code",
   "execution_count": 41,
   "metadata": {},
   "outputs": [],
   "source": [
    "import pickle\n",
    "\n",
    "with open('outfile', 'wb') as fp:\n",
    "    pickle.dump(ecnoded_arr, fp)"
   ]
  },
  {
   "cell_type": "code",
   "execution_count": 42,
   "metadata": {},
   "outputs": [],
   "source": [
    "with open('outfile', 'rb') as handle:\n",
    "    b = pickle.load(handle)"
   ]
  },
  {
   "cell_type": "code",
   "execution_count": 10,
   "metadata": {},
   "outputs": [
    {
     "data": {
      "text/plain": [
       "1002045"
      ]
     },
     "execution_count": 10,
     "metadata": {},
     "output_type": "execute_result"
    }
   ],
   "source": [
    "len(b)"
   ]
  },
  {
   "cell_type": "code",
   "execution_count": 11,
   "metadata": {},
   "outputs": [],
   "source": [
    "def extract_q(bin_string, k_val):\n",
    "    if len(bin_string) > k_val:\n",
    "        count = 0\n",
    "        for i in bin_string:\n",
    "            if int(i) == 1:\n",
    "                count+=1\n",
    "            else:  break\n",
    "        return count\n",
    "    return 0"
   ]
  },
  {
   "cell_type": "code",
   "execution_count": 12,
   "metadata": {},
   "outputs": [],
   "source": [
    "def extract_r(bin_string, k_val):\n",
    "    \n",
    "    if len(bin_string) > k_val:\n",
    "        index = 0\n",
    "        for i in range(len(bin_string)):\n",
    "            if int(bin_string[i]) == 0:\n",
    "                index = i + 1\n",
    "                break\n",
    "        return int(bin_string[index:], 2)\n",
    "    return int(bin_string, 2)\n",
    "\n",
    "            "
   ]
  },
  {
   "cell_type": "code",
   "execution_count": 13,
   "metadata": {},
   "outputs": [],
   "source": [
    "def decode_enc(encoded_arr):\n",
    "    k = encoded_arr[-1]\n",
    "    m = 2 ** k\n",
    "    decoded_list = []\n",
    "    \n",
    "    for i in range(len(encoded_arr[:-1])):\n",
    "        binary_string = bin(encoded_arr[i])[2:]\n",
    "        q = extract_q(binary_string, k)\n",
    "        r = extract_r(binary_string, k)\n",
    "        s = m * q + r\n",
    "        decoded_list.append(s)\n",
    "    return bytearray(decoded_list)\n",
    "        "
   ]
  },
  {
   "cell_type": "code",
   "execution_count": 43,
   "metadata": {},
   "outputs": [],
   "source": [
    "test_byte_array = decode_enc(b)"
   ]
  },
  {
   "cell_type": "code",
   "execution_count": null,
   "metadata": {},
   "outputs": [],
   "source": [
    "test_byte_array[5000:5020]"
   ]
  },
  {
   "cell_type": "code",
   "execution_count": 44,
   "metadata": {},
   "outputs": [],
   "source": [
    "\n",
    "n_frames = len(test_byte_array)\n",
    "\n",
    "# Create a new WAV file\n",
    "with wave.open('output.wav', 'wb') as wav:\n",
    "    wav.setparams((channels, sample_width, sample_rate, n_frames, 'NONE', 'NONE'))\n",
    "    wav.writeframes(test_byte_array)"
   ]
  },
  {
   "cell_type": "code",
   "execution_count": null,
   "metadata": {},
   "outputs": [],
   "source": []
  }
 ],
 "metadata": {
  "kernelspec": {
   "display_name": "Python 3",
   "language": "python",
   "name": "python3"
  },
  "language_info": {
   "codemirror_mode": {
    "name": "ipython",
    "version": 3
   },
   "file_extension": ".py",
   "mimetype": "text/x-python",
   "name": "python",
   "nbconvert_exporter": "python",
   "pygments_lexer": "ipython3",
   "version": "3.8.8"
  }
 },
 "nbformat": 4,
 "nbformat_minor": 4
}
